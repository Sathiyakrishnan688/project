{
  "nbformat": 4,
  "nbformat_minor": 0,
  "metadata": {
    "colab": {
      "provenance": [],
      "authorship_tag": "ABX9TyMWdIg48rRHRm+kQH7Qm+Nw",
      "include_colab_link": true
    },
    "kernelspec": {
      "name": "python3",
      "display_name": "Python 3"
    },
    "language_info": {
      "name": "python"
    }
  },
  "cells": [
    {
      "cell_type": "markdown",
      "metadata": {
        "id": "view-in-github",
        "colab_type": "text"
      },
      "source": [
        "<a href=\"https://colab.research.google.com/github/Sathiyakrishnan688/project/blob/master/SIG742_SathiyapriyaK_Mideterm_Task1.ipynb\" target=\"_parent\"><img src=\"https://colab.research.google.com/assets/colab-badge.svg\" alt=\"Open In Colab\"/></a>"
      ]
    },
    {
      "cell_type": "markdown",
      "source": [],
      "metadata": {
        "id": "8TuqIkYtGKTp"
      }
    },
    {
      "cell_type": "markdown",
      "source": [
        "Student ID : \t224894048\n",
        "\n",
        "Student Name : Sathiya Priya Krishnan\n",
        "\n",
        "Attempted High Distinction Question : Yes"
      ],
      "metadata": {
        "id": "G74IXvUBGNoX"
      }
    },
    {
      "cell_type": "markdown",
      "source": [
        "##Part 1\n",
        "\n",
        "##Question 1.1\n",
        "\n",
        " Write a method “is˙divisible” that takes two integers, m and n. The method returns True if m is\n",
        " divisible by n, and returns False otherwise. Give three test cases for this function and three test\n",
        " cases should include cases that return values on True and False. Be sure to test your function well,\n",
        " including at least three test cases\n",
        "\n",
        "## Answer 1.1."
      ],
      "metadata": {
        "id": "OpraAnEZGcys"
      }
    },
    {
      "cell_type": "code",
      "source": [
        "# Lets define a function for \"is divisible\" program\n",
        "\n",
        "def isdivisible():\n",
        "\n",
        "  \"\"\" Function for checking the divisiblity of the given number m according to n (m/n)\"\"\"\n",
        "  # Enter the Two integer\n",
        "  m =int(input(\"Enter 1st integer m:\"))\n",
        "  n =int(input(\"Enter 2nd integer n:\"))\n",
        "\n",
        " # Check that 'm' is divisible by 'n'\n",
        "  if(m%n==0):\n",
        "      # Return True if m is divisible by n\n",
        "      print(True)\n",
        "      print('%d is divisible by %d \\n'% (m , n))\n",
        "      return True\n",
        "\n",
        "  else:\n",
        "      # Return False if m is not divisible by n\n",
        "      print(False)\n",
        "      print('%d is not divisible by %d\\n' %(m,n))\n",
        "      return False\n",
        "\n",
        "# Define three test cases Check for the written is divisible Function\n",
        "\n",
        "def three_cases1():\n",
        "  \"\"\" Function to call isdivisible() with three different cases \"\"\"\n",
        "  print(\"Case 1:\")\n",
        "  isdivisible()\n",
        "  print(\"Case 2:\")\n",
        "  isdivisible()\n",
        "  print(\"Case 3:\")\n",
        "  isdivisible()\n",
        "\n",
        "# Call for function is divisible three cases\n",
        "three_cases1()\n"
      ],
      "metadata": {
        "colab": {
          "base_uri": "https://localhost:8080/"
        },
        "id": "fbMqjMjfPo7w",
        "outputId": "a4c0104d-b910-4305-f999-be54249f3704"
      },
      "execution_count": null,
      "outputs": [
        {
          "output_type": "stream",
          "name": "stdout",
          "text": [
            "Case 1:\n",
            "Enter 1st integer m:8\n",
            "Enter 2nd integer n:2\n",
            "True\n",
            "8 is divisible by 2 \n",
            "\n",
            "Case 2:\n",
            "Enter 1st integer m:10\n",
            "Enter 2nd integer n:4\n",
            "False\n",
            "10 is not divisible by 4\n",
            "\n",
            "Case 3:\n",
            "Enter 1st integer m:90\n",
            "Enter 2nd integer n:10\n",
            "True\n",
            "90 is divisible by 10 \n",
            "\n"
          ]
        }
      ]
    },
    {
      "cell_type": "markdown",
      "source": [
        "## Question 1.2\n",
        "\n",
        "Imagine that Python doesnot have the != operator builtin. Write a method“not_equal” that take  two variables(any variable type)and gives the same result as the != operator.Obviously,youcannot use!= with in your function! Test if your codeworks by thinking of examples and making sure the\n",
        " output is the same for your new methodas!= givesyou.Be sure\n",
        "  to test your function well, including at least 3 testcases.\n",
        "\n",
        "## Answer 1.2."
      ],
      "metadata": {
        "id": "sSA-2iKtRRWz"
      }
    },
    {
      "cell_type": "code",
      "source": [
        "# Lets define a function for \"not_equal\" program\n",
        "\n",
        "\n",
        "def not_equal():\n",
        "  \"\"\" Function similar to != opeator build in function\"\"\"\n",
        "  # Enter the Two integer\n",
        "  m =(input(\"Enter 1st integer m:\"))\n",
        "  n =(input(\"Enter 2nd integer n:\"))\n",
        "\n",
        "  m =float(m)\n",
        "  n =float(n)\n",
        "\n",
        " # Check the 'm' is equal to 'n'\n",
        "  if( m == n):\n",
        "      # Return False, m is equal to n\n",
        "      print(False)\n",
        "      print('%d is equal to %d \\n'% (m , n))\n",
        "      return False\n",
        "\n",
        "  else:\n",
        "      # Return True if m is not equal to n\n",
        "      print(True)\n",
        "      print('%s is not equal to %s \\n' %(m,n))\n",
        "      return True\n",
        "\n",
        "# Define three test cases Check for the written is divisible Function\n",
        "\n",
        "def three_cases2():\n",
        "  \"\"\" Function to call not_equal() for three different cases\"\"\"\n",
        "  print(\"Case 1:\")\n",
        "  not_equal()\n",
        "  print(\"Case 2:\")\n",
        "  not_equal()\n",
        "  print(\"Case 3:\")\n",
        "  not_equal()\n",
        "\n",
        "# Call for function is divisible three cases\n",
        "three_cases2()\n"
      ],
      "metadata": {
        "colab": {
          "base_uri": "https://localhost:8080/"
        },
        "id": "hSOz3JuQRPmo",
        "outputId": "5091ac6d-3140-49de-fb8e-b532db91db31"
      },
      "execution_count": null,
      "outputs": [
        {
          "output_type": "stream",
          "name": "stdout",
          "text": [
            "Case 1:\n",
            "Enter 1st integer m:4\n",
            "Enter 2nd integer n:4.0\n",
            "False\n",
            "4 is equal to 4 \n",
            "\n",
            "Case 2:\n",
            "Enter 1st integer m:6\n",
            "Enter 2nd integer n:60\n",
            "True\n",
            "6.0 is not equal to 60.0 \n",
            "\n",
            "Case 3:\n",
            "Enter 1st integer m:12\n",
            "Enter 2nd integer n:2\n",
            "True\n",
            "12.0 is not equal to 2.0 \n",
            "\n"
          ]
        }
      ]
    },
    {
      "cell_type": "markdown",
      "source": [
        "## Question 1.3\n",
        "\n",
        "List Comprehensions,you will need to perform and understand list comprehensions programming in below two small tasks.\n",
        "\n",
        " •Write a list comprehension that prints out the possible results of three coin flips(how many results should be there?)\n",
        "\n",
        " •Run this list comprehension in your notebook:\n",
        " [x+y for x in[10,20,30] for y in [1,2,3]].\n",
        " Figure out what is going on here, and write a nested for loop that gives you\n",
        " the same result"
      ],
      "metadata": {
        "id": "PNKgs10wy6nn"
      }
    },
    {
      "cell_type": "code",
      "source": [
        "# Creating a New list Comprehension as newlist\n",
        "\n",
        "# 3 Coins are represented as x,y,z\n",
        "\n",
        "newlist = [x+y+z for x in ['H','T'] for y in ['H','T'] for z in ['H','T']]\n",
        "print(newlist)\n",
        "# print the count of possible results\n",
        "print('\\n Count of possible results of three coins flip:',len(newlist))\n"
      ],
      "metadata": {
        "colab": {
          "base_uri": "https://localhost:8080/"
        },
        "id": "pbrDF1bcyFDm",
        "outputId": "89ff22e4-7167-4331-e687-c946a25d913f"
      },
      "execution_count": null,
      "outputs": [
        {
          "output_type": "stream",
          "name": "stdout",
          "text": [
            "['HHH', 'HHT', 'HTH', 'HTT', 'THH', 'THT', 'TTH', 'TTT']\n",
            "\n",
            " Count of possible results of three coins flip: 8\n"
          ]
        }
      ]
    },
    {
      "cell_type": "code",
      "source": [
        "# Run the given list comprehension\n",
        "\n",
        "[x+y for x in[10,20,30] for y in [1,2,3]]"
      ],
      "metadata": {
        "colab": {
          "base_uri": "https://localhost:8080/"
        },
        "id": "yx7IrJuO1pXu",
        "outputId": "358761bd-0450-4cb7-d5b4-aeecbbb86fbe"
      },
      "execution_count": null,
      "outputs": [
        {
          "output_type": "execute_result",
          "data": {
            "text/plain": [
              "[11, 12, 13, 21, 22, 23, 31, 32, 33]"
            ]
          },
          "metadata": {},
          "execution_count": 183
        }
      ]
    },
    {
      "cell_type": "markdown",
      "source": [
        " For every iteration of X value added with list of y.\n",
        "\n",
        "Example x+y = 10+1,10+2, 10+3. as a result. 11,12,13.\n",
        "\n",
        "For the next iteration, x value is 20 added with 1,2,3 of y.\n",
        "\n",
        "as a result , 21,22,23. And so on..."
      ],
      "metadata": {
        "id": "K_Chijus44uc"
      }
    },
    {
      "cell_type": "code",
      "source": [
        "# Create a seperate list for x as a and y as b\n",
        "a=[10,20,30]\n",
        "b=[1,2,3]\n",
        "\n",
        "# New list for to store the added value\n",
        "new_list=[]\n",
        "\n",
        "# Created the for loop x\n",
        "for x in a:\n",
        "\n",
        "  #Nested loop y with x\n",
        "  for y in b:\n",
        "\n",
        "    #Add the value x and y and append in the new list\n",
        "    new_list.append(x+y)\n",
        "\n",
        "# print the list value\n",
        "print(new_list)\n"
      ],
      "metadata": {
        "colab": {
          "base_uri": "https://localhost:8080/"
        },
        "id": "Nl3v3b3u1qve",
        "outputId": "23b5ce60-b87e-489d-ac15-9b4892abb4ad"
      },
      "execution_count": null,
      "outputs": [
        {
          "output_type": "stream",
          "name": "stdout",
          "text": [
            "[11, 12, 13, 21, 22, 23, 31, 32, 33]\n"
          ]
        }
      ]
    },
    {
      "cell_type": "markdown",
      "source": [
        "## Question 1.4\n",
        "\n",
        " Write a function ”find_digits\" that takes in a string and uses a list comprehension to return all the int digits in the string if any(assuming string only contain digits from 0 to 9).Be sure to test\n",
        " your function well, including at least 3 testcases."
      ],
      "metadata": {
        "id": "hLVGcae_7JzO"
      }
    },
    {
      "cell_type": "code",
      "source": [
        "\n",
        "# Create a function find_digits with parameters as characters (string)\n",
        "def find_digits(chars):\n",
        "    \"\"\" Function to identify the int digits in the string \"\"\"\n",
        "\n",
        "    # mention the digits represented to find in the string 0 to 9\n",
        "    find_digits = ['0','1','2','3','4','5','6','7','8','9']\n",
        "\n",
        "    # Create the list comprehension to return the int digits in the string\n",
        "    return [x for x in chars if x in find_digits]\n",
        "\n",
        "\n",
        "# Check with different strings and verify the function\n",
        "print(find_digits(\"sam has 2 dogs, 3 cats and 2 parrots\"))\n",
        "print(find_digits(\"I own zero(0) dogs\"))\n",
        "print(find_digits(\"I got negative mark as -1\"))"
      ],
      "metadata": {
        "colab": {
          "base_uri": "https://localhost:8080/"
        },
        "id": "J8IWtD2M7JBv",
        "outputId": "e329b8b9-8f66-4c12-8852-1027a141bd68"
      },
      "execution_count": null,
      "outputs": [
        {
          "output_type": "stream",
          "name": "stdout",
          "text": [
            "['2', '3', '2']\n",
            "['0']\n",
            "['1']\n"
          ]
        }
      ]
    },
    {
      "cell_type": "markdown",
      "source": [
        "## Question 1.5\n",
        "\n",
        "Write a list comprehension which solves the equation y=2x2−1 like\n",
        "\n",
        "Figure2.\n",
        "\n",
        "Your solution should print out a list of [x,y]pairs;\n",
        "use the domain x ∈[−3,3] and the range y ∈[0,30]. x and y are all\n",
        " integers and you could use range for simulation on the x and y.\n"
      ],
      "metadata": {
        "id": "Ij5hN1vxEdF5"
      }
    },
    {
      "cell_type": "code",
      "source": [
        "# simulation of finding y value with x range [-3,3]\n",
        "\n",
        "# Create the list comprehension for quadratic equation y with x range(-3,3)\n",
        "quad= [(x,2*(x*x)-1) for x in range(-3,4)]\n",
        "\n",
        "#print the respective y value for the given x\n",
        "print(quad)"
      ],
      "metadata": {
        "colab": {
          "base_uri": "https://localhost:8080/"
        },
        "id": "9xvp3z_fRqBs",
        "outputId": "96866b52-c301-4da8-c397-b73cb9149689"
      },
      "execution_count": null,
      "outputs": [
        {
          "output_type": "stream",
          "name": "stdout",
          "text": [
            "[(-3, 17), (-2, 7), (-1, 1), (0, -1), (1, 1), (2, 7), (3, 17)]\n"
          ]
        }
      ]
    },
    {
      "cell_type": "code",
      "source": [
        "import math\n",
        "from math import sqrt"
      ],
      "metadata": {
        "id": "TwGDfp0rZ2ul"
      },
      "execution_count": null,
      "outputs": []
    },
    {
      "cell_type": "code",
      "source": [
        "# Simulation of finding x value with y range [0,30]\n",
        "\n",
        "\n",
        "# Create the list comprehension for quadratic equation x with y range(0,30)\n",
        "quad1= [(((y+1)/2)**0.5,y) for y in range(0,31)]\n",
        "\n",
        "quad1\n",
        "\n",
        "#print the respective y value for the given x\n",
        "print(quad1)"
      ],
      "metadata": {
        "colab": {
          "base_uri": "https://localhost:8080/"
        },
        "id": "EZHpWc5MToZV",
        "outputId": "0403104d-e1db-46df-d9d2-6c83e3ea7f99"
      },
      "execution_count": null,
      "outputs": [
        {
          "output_type": "stream",
          "name": "stdout",
          "text": [
            "[(0.7071067811865476, 0), (1.0, 1), (1.224744871391589, 2), (1.4142135623730951, 3), (1.5811388300841898, 4), (1.7320508075688772, 5), (1.8708286933869707, 6), (2.0, 7), (2.1213203435596424, 8), (2.23606797749979, 9), (2.345207879911715, 10), (2.449489742783178, 11), (2.5495097567963922, 12), (2.6457513110645907, 13), (2.7386127875258306, 14), (2.8284271247461903, 15), (2.9154759474226504, 16), (3.0, 17), (3.082207001484488, 18), (3.1622776601683795, 19), (3.24037034920393, 20), (3.3166247903554, 21), (3.391164991562634, 22), (3.4641016151377544, 23), (3.5355339059327378, 24), (3.605551275463989, 25), (3.6742346141747673, 26), (3.7416573867739413, 27), (3.8078865529319543, 28), (3.872983346207417, 29), (3.9370039370059056, 30)]\n"
          ]
        }
      ]
    },
    {
      "cell_type": "markdown",
      "source": [
        "## Question 1.6\n",
        "\n",
        " Collision Detection of Balls:\n",
        "\n",
        " For calculating collision,we only care about a ball’s position in space,as well as its size.We can store a ball’s position with the (x,y) coordinates of its centerpoint,and we can calculate its size if we know its radius r.\n",
        "\n",
        " Thus,were present a ball in 2D space as a tuple of (x,y,r).To figureout if two\n",
        " balls are colliding,we need to compute the distance between their centers, then see if this distance is less than or equal to the sum of their radius. If so, they are colliding.Please define a function with two list as inputs(two balls’ position and radius[x,y,r]) test your function with three different cases."
      ],
      "metadata": {
        "id": "hYRdOidfe_zE"
      }
    },
    {
      "cell_type": "code",
      "source": [
        "# Create the function to find the Collision detection\n",
        "\n",
        "# the balls position in space represented as (x,y)\n",
        "# The radius of the ball is r.\n",
        "# To figure out the balls are colliding = distance between the center is less than or equal to sum of the radius\n",
        "\n",
        "# For collision :  (Ball 1 radius + Ball 2 radius) => distance between the center\n",
        "\n",
        "def ball_collision(ball_a,ball_b):\n",
        "  \"\"\" Function to check two balls are in collision or not (in the surface) \"\"\"\n",
        "  x1,y1,r1=ball_a\n",
        "  x2,y2,r2=ball_b\n",
        "  dist=((x2-x1)**2+ (y2-y1)**2)**0.5\n",
        "  radius_sum=r1+r2\n",
        "  if(dist <= radius_sum):\n",
        "      return True\n",
        "  else:\n",
        "    return False\n",
        "\n",
        "\n",
        "# Testcase Scenario\n",
        "print(\"Case 1:(x1,y1):(3,2),(x2,y2):(3,2),r1=1,r2=1\",ball_collision((3,2,1),(3,2,1)))\n",
        "print(\"Case 2:(x1,y1):(0,0),(x2,y2):(4,4),r1=1,r2=1\",ball_collision((0,0,1),(4,4,1)))\n",
        "print(\"Case 3:(x1,y1):(8,0),(x2,y2):(0,4),r1=2,r2=1\",ball_collision((8,0,2),(0,4,1)))"
      ],
      "metadata": {
        "colab": {
          "base_uri": "https://localhost:8080/"
        },
        "id": "AuZQIvJ1Zt_k",
        "outputId": "51ff069f-8108-4b11-b400-1cdbedb7f537"
      },
      "execution_count": null,
      "outputs": [
        {
          "output_type": "stream",
          "name": "stdout",
          "text": [
            "Case 1:(x1,y1):(3,2),(x2,y2):(3,2),r1=1,r2=1 True\n",
            "Case 2:(x1,y1):(0,0),(x2,y2):(4,4),r1=1,r2=1 False\n",
            "Case 3:(x1,y1):(8,0),(x2,y2):(0,4),r1=2,r2=1 False\n"
          ]
        }
      ]
    },
    {
      "cell_type": "code",
      "source": [
        "help(ball_collision)"
      ],
      "metadata": {
        "colab": {
          "base_uri": "https://localhost:8080/"
        },
        "id": "kdNdQ-_h6Kub",
        "outputId": "3bbdfbef-ed52-450c-f799-775a5060f484"
      },
      "execution_count": null,
      "outputs": [
        {
          "output_type": "stream",
          "name": "stdout",
          "text": [
            "Help on function ball_collision in module __main__:\n",
            "\n",
            "ball_collision(ball_a, ball_b)\n",
            "    Function to check two balls are in collision or not (in the surface)\n",
            "\n"
          ]
        }
      ]
    },
    {
      "cell_type": "markdown",
      "source": [
        "## Question 1.7\n",
        "\n",
        " Scoring the words:\n",
        "\n",
        " A set of score is given to you as below according to each English letters :\n",
        "\n",
        "LETTER˙VALUES= ’a’: 1, ’b’: 1, ’c’: 5, ’d’: 6, ’e’: 1, ’f’: 4, ’g’: 2, ’h’: 4, ’i’: 1, ’j’: 8, ’k’: 6, ’l’:1,’m’:4,’n’:1,’o’:1,’p’:3,’q’:11,’r’:1,’s’:1,’t’:1,’u’:1,’v’:5,’w’:4,’x’:8,’y’:6,’z’:10,’’:100\n",
        "\n",
        " Please finish the “get_word_score” function for returning the correct word score (condition is given from function comments).\n",
        " The necessary library is given to you for importing (not other libraries\n",
        " should be used).Test with “Australia”,“Deakin” and your name for three cases.\n",
        "\n",
        " def get word score(word):\n",
        " ”””\n",
        " Returns the score for a word. Assumes the word is a\n",
        " valid word.\n",
        " You may assume that the input word is always either\n",
        " a string of letters ,\n",
        " and can not be the empty string \"””.\n",
        "\n",
        " You may not assume that the string will only contain lower case letters , so you will have to handle upper case and mixed case strings appropriately.\n",
        "\n",
        " The score for a word is the product of two components:\n",
        " The first component is the sum of the points for letters in the word.\n",
        "  \n",
        " The second component is the larger of: 1, or 7∗wordlen −3 ∗ (20 − wordlen),\n",
        " where wordlen is the length of the word\n",
        " Letters are scored as in LETTERVALUES.\n",
        " word: string\n",
        " returns: int >=0\n",
        " ”””"
      ],
      "metadata": {
        "id": "_wDBoDE98WIm"
      }
    },
    {
      "cell_type": "code",
      "source": [
        "# Create a function get worst score with parameters as characters letter value\n",
        "\n",
        "def get_worst_score(line):\n",
        "    \"\"\" Function to identify the letter value in the string \"\"\"\n",
        "\n",
        "    # mention the alphabet represented to find the corresponding value\n",
        "    worst_score ={\"a\":1,\"b\": 1, \"c\": 5, \"d\": 6, \"e\": 1,\"f\": 4, \"g\": 2, \"h\": 4, \"i\": 1, \"j\": 8,\"k\": 6, \"l\":1, \"m\":4, \"n\":1,\"o\":1,\"p\":3,\"q\":11, \"r\":1, \"s\":1, \"t\":1,\"u\":1, \"v\":5,\"w\":4, \"x\": 8, \"y\":6,\"z\":10,\" \":100}\n",
        "\n",
        "    # Create the list comprehension to return the letter value in the string\n",
        "    line=line.lower()\n",
        "    score=0\n",
        "    print(line)\n",
        "    for x in line:\n",
        "      print(x,worst_score.get(x))\n",
        "      # Calculate the sum of the given letters value\n",
        "      score=score + worst_score.get(x)\n",
        "    print(score)\n",
        "\n",
        "    # Calculate the length of the word\n",
        "    wordlen=len(line)\n",
        "\n",
        "    #Calculate the second component value\n",
        "    second_component=max(1,7*wordlen - 3*(20-wordlen))\n",
        "\n",
        "    #Calculate the score for the given word\n",
        "    score=score*second_component\n",
        "\n",
        "    return score\n",
        "\n",
        "\n",
        "\n",
        "# Check with different strings and verify the function\n",
        "print(get_worst_score(\"Australia\"))\n",
        "print(get_worst_score(\"Deakin\"))\n",
        "print(get_worst_score(\"Sathiya\"))\n"
      ],
      "metadata": {
        "colab": {
          "base_uri": "https://localhost:8080/"
        },
        "id": "i6KBGmSm8IMI",
        "outputId": "0b00fe15-2110-4236-afd0-fb0b18111323"
      },
      "execution_count": null,
      "outputs": [
        {
          "output_type": "stream",
          "name": "stdout",
          "text": [
            "australia\n",
            "a 1\n",
            "u 1\n",
            "s 1\n",
            "t 1\n",
            "r 1\n",
            "a 1\n",
            "l 1\n",
            "i 1\n",
            "a 1\n",
            "9\n",
            "270\n",
            "deakin\n",
            "d 6\n",
            "e 1\n",
            "a 1\n",
            "k 6\n",
            "i 1\n",
            "n 1\n",
            "16\n",
            "16\n",
            "sathiya\n",
            "s 1\n",
            "a 1\n",
            "t 1\n",
            "h 4\n",
            "i 1\n",
            "y 6\n",
            "a 1\n",
            "15\n",
            "150\n"
          ]
        }
      ]
    },
    {
      "cell_type": "markdown",
      "source": [
        "## Question 1.8:\n",
        "\n",
        "Could you please use loop(s) with string character “*” to print as below Figure3"
      ],
      "metadata": {
        "id": "LdnJq-Nxt-6D"
      }
    },
    {
      "cell_type": "code",
      "source": [
        "# Function to print full pyramid pattern\n",
        "\n",
        "def pattern(n):\n",
        "\n",
        "  \"\"\" represent the right justified pyramid pattern with the size (9 (rows),5 (columns))\"\"\"\n",
        "  # Create the loop for n column\n",
        "  for i in range(1,n+1):\n",
        "\n",
        "      # Print leading spaces\n",
        "      for j in range(n-i):\n",
        "          print(\" \", end=\"\")\n",
        "\n",
        "      # Print asterisks for the current row\n",
        "      for k in range(1,i):\n",
        "        print(\"*\", end=\"\")\n",
        "\n",
        "      print()\n",
        "\n",
        "  # Reverse pattern\n",
        "  for i in range(1,n):\n",
        "\n",
        "      # Print leading spaces\n",
        "      for j in range(i):\n",
        "          print(\" \", end=\"\")\n",
        "\n",
        "      # Print asterisks for the current row\n",
        "      for k in range(1,n-i):\n",
        "        print(\"*\", end=\"\")\n",
        "\n",
        "      print()\n",
        "\n",
        " # Call the function\n",
        "pattern(6)\n"
      ],
      "metadata": {
        "colab": {
          "base_uri": "https://localhost:8080/"
        },
        "id": "9qDPL87hxIuu",
        "outputId": "a473ec86-b595-41ee-bdc9-9e9c9bc16c8f"
      },
      "execution_count": null,
      "outputs": [
        {
          "output_type": "stream",
          "name": "stdout",
          "text": [
            "     \n",
            "    *\n",
            "   **\n",
            "  ***\n",
            " ****\n",
            "*****\n",
            " ****\n",
            "  ***\n",
            "   **\n",
            "    *\n",
            "     \n"
          ]
        }
      ]
    },
    {
      "cell_type": "markdown",
      "source": [
        "### 1 Which question for you ?"
      ],
      "metadata": {
        "id": "fxz-i4mCrVY0"
      }
    },
    {
      "cell_type": "code",
      "source": [
        "def sum_digits(n):\n",
        "  r=0\n",
        "  while n:\n",
        "    r , n = r + n % 10, n // 10\n",
        "    return r\n",
        "def check_studentid(studentid):\n",
        "  x = sum_digits(studentid)\n",
        "  if(x % 2 == 0):\n",
        "    print(\"version I\")\n",
        "  else :\n",
        "      print(\"version II\")\n",
        "      print(\"Correct Version of Q2 for me is : \")\n",
        "\n",
        "check_studentid(224894048)"
      ],
      "metadata": {
        "colab": {
          "base_uri": "https://localhost:8080/"
        },
        "id": "3Ld-ZFf7p0tv",
        "outputId": "4f7ad280-9182-476a-d2d3-689cc5b352b8"
      },
      "execution_count": null,
      "outputs": [
        {
          "output_type": "stream",
          "name": "stdout",
          "text": [
            "version I\n"
          ]
        }
      ]
    },
    {
      "cell_type": "markdown",
      "source": [
        "### After running the code, to my student ID - Version I of Part II."
      ],
      "metadata": {
        "id": "9W--ot6crip5"
      }
    },
    {
      "cell_type": "markdown",
      "source": [
        "## Part 2:"
      ],
      "metadata": {
        "id": "4LHPCp59sN1m"
      }
    },
    {
      "cell_type": "markdown",
      "source": [
        "### Question 2:\n",
        "\n",
        "Calculate the Area between a curve and a line\n",
        "\n",
        " There are two functions y = 10 − 2x and y = 5+4x−x2 The interaction of the two function is\n",
        " shown as below graph. It could been seen that the area (highlighted with red color) is where the\n",
        " y =5+4x−x2 value larger than y = 10−2x like Figure 4. This scenario we could call it as “Area\n",
        "between a curve and a line”. Now your task is to write few functions and draw some graphs to\n",
        " calculate this “Area between a curve and a line”"
      ],
      "metadata": {
        "id": "CIoyD4P_sXL-"
      }
    },
    {
      "cell_type": "code",
      "source": [
        "# Define a function for both the curve and the line\n",
        "def formula1(x):\n",
        "  # function for Curve\n",
        "  y1= 5 + 4*x - x**2\n",
        "  return y1\n",
        "\n",
        "def formula2(x):\n",
        "  # Function for Line\n",
        "  y2=10-2*x\n",
        "  return y2\n",
        "\n"
      ],
      "metadata": {
        "id": "NRNi5OKvshJC"
      },
      "execution_count": null,
      "outputs": []
    },
    {
      "cell_type": "markdown",
      "source": [
        " ## Question 2.1\n",
        "\n",
        " The first step is to find out the “the intersection of the curve and the line” like below graph\n",
        "\n"
      ],
      "metadata": {
        "id": "cJaK6ri5zMDs"
      }
    },
    {
      "cell_type": "code",
      "source": [
        "# Find the intersection point by using solver and equation in sympy\n",
        "from sympy import symbols,Eq,solve\n",
        "\n",
        "# Symbols - Pass a string surrounded by quotes to the symbols() function as an input argument\n",
        "# eq- Equations have equality.\n",
        "# solve - function can be used to solve equations\n",
        "\n",
        "x= symbols('x')\n",
        "intersect_point= Eq(5 + 4*x - x**2,10-2*x)\n",
        "solutions = solve(intersect_point)\n",
        "\n",
        "#x1,x2 are the intersection point of the curve to the line\n",
        "x1,x2=(solutions[0],solutions[1])\n",
        "\n",
        "print(\"x1 :\",x1)\n",
        "print(\"x2 :\", x2)\n"
      ],
      "metadata": {
        "colab": {
          "base_uri": "https://localhost:8080/"
        },
        "id": "KtFXEvkU4ZCi",
        "outputId": "fbac04d9-c7e4-4997-a068-9b86120c7ccc"
      },
      "execution_count": null,
      "outputs": [
        {
          "output_type": "stream",
          "name": "stdout",
          "text": [
            "x1 : 1\n",
            "x2 : 5\n"
          ]
        }
      ]
    },
    {
      "cell_type": "markdown",
      "source": [
        "Could you please continue working in the graph function to draw “the intersections of the curve and\n",
        " the line” like Figure 5? Also could you print out the two intersections corresponding x and y pair\n",
        " value? (you could round the x and y pair value)"
      ],
      "metadata": {
        "id": "4mXjgAOc4aYf"
      }
    },
    {
      "cell_type": "code",
      "source": [
        "# Import the libraries\n",
        "import numpy as np\n",
        "import matplotlib.pyplot as plt\n",
        "\n",
        "# Create the graph function\n",
        "def graph(formula1 , formula2 , x_range):\n",
        "        x = np.array(x_range)\n",
        "\n",
        "      #use x as range variable\n",
        "        y1 = formula1(x)\n",
        "        y2 = formula2(x)\n",
        "\n",
        "        #use y1 and y2 as function result\n",
        "        plt . plot (x,y1)\n",
        "        plt . plot (x,y2)\n",
        "        plt . fill_between (x, y1, y2,where=(y1 < y2),\n",
        "        color= 'red' , alpha=0.3)\n",
        "\n",
        "        plt.ylim(ymin=0)\n",
        "        plt.show()\n",
        "\n",
        "        #run the graph function to test code for marking\n",
        "graph(lambda x : (10-2*x), lambda x : (4*x-x**2) +5,np. arange(-2, 7, 0.0001))"
      ],
      "metadata": {
        "colab": {
          "base_uri": "https://localhost:8080/",
          "height": 430
        },
        "id": "C-itDTVkzOmn",
        "outputId": "a2bfe57d-770e-4b50-dda9-5faa50e34b75"
      },
      "execution_count": null,
      "outputs": [
        {
          "output_type": "display_data",
          "data": {
            "text/plain": [
              "<Figure size 640x480 with 1 Axes>"
            ],
            "image/png": "[encoded data removed]"
          },
          "metadata": {}
        }
      ]
    },
    {
      "cell_type": "markdown",
      "source": [
        "## Y value with respect to the X value under the curve"
      ],
      "metadata": {
        "id": "WQ_RM_Vcw_P3"
      }
    },
    {
      "cell_type": "code",
      "source": [
        "# Formula for Curve Function\n",
        "a=formula1(1)\n",
        "print('for x1=1 intersecting y value :',a)\n",
        "\n"
      ],
      "metadata": {
        "colab": {
          "base_uri": "https://localhost:8080/"
        },
        "id": "UOWZrIuDFfY0",
        "outputId": "69d93387-5345-4874-9226-bfc698abbd00"
      },
      "execution_count": null,
      "outputs": [
        {
          "output_type": "stream",
          "name": "stdout",
          "text": [
            "for x1=1 intersecting y value : 8\n"
          ]
        }
      ]
    },
    {
      "cell_type": "code",
      "source": [
        "#Formula for Curve function\n",
        "b= formula1(5)\n",
        "print('for x1=5 intersecting y value :',b)"
      ],
      "metadata": {
        "colab": {
          "base_uri": "https://localhost:8080/"
        },
        "id": "vJfbVZuLGsas",
        "outputId": "c1c1d5f5-5a42-4ff6-b231-518a16e9c046"
      },
      "execution_count": null,
      "outputs": [
        {
          "output_type": "stream",
          "name": "stdout",
          "text": [
            "for x1=5 intersecting y value : 0\n"
          ]
        }
      ]
    },
    {
      "cell_type": "markdown",
      "source": [
        "Question 2.2\n",
        "\n",
        " The second step is to find out “the area under the curve y = 5+4x−x2 ”by using the two intersections\n",
        " like below Figure"
      ],
      "metadata": {
        "id": "yVdzMzEEEeKt"
      }
    },
    {
      "cell_type": "code",
      "source": [
        "import numpy as np\n",
        "\n",
        "def area_curve(p1, p2):\n",
        "    \"\"\"\n",
        "    Compute the area between two curves f1(x) from x = p1[0] to x = p2[0],\n",
        "    where p1 and p2 are points [x1, y1] and [x2, y2] on the curves.\n",
        "\n",
        "    Args:\n",
        "        p1 (list): The coordinates [x1, y1] of the first intersection point.\n",
        "        p2 (list): The coordinates [x2, y2] of the second intersection point.\n",
        "\n",
        "    Returns:\n",
        "        float: The area under the curve f1(x) from x1 to x2.\n",
        "    \"\"\"\n",
        "    # Extract x-coordinates from points\n",
        "    x = np.linspace(p1[0], p2[0])\n",
        "    y=  formula1(x)\n",
        "\n",
        "\n",
        "    # Compute the area using trapezoidal rule\n",
        "    area = np.trapz(y, x,dx=0.0001)\n",
        "    return area\n",
        "\n",
        "\n",
        "# Example usage:\n",
        "p1 = [1, 8]  # Intersection points (example values)\n",
        "p2 = [5, 0]  # Intersection points (example values)\n",
        "\n",
        "area = area_curve(p1, p2)\n",
        "print(f'The area between the curves is approximately {area:.3f}')"
      ],
      "metadata": {
        "colab": {
          "base_uri": "https://localhost:8080/"
        },
        "id": "QNqgd_OIKMu_",
        "outputId": "fd65f883-b41f-41ca-f507-e3cd51aca3ad"
      },
      "execution_count": null,
      "outputs": [
        {
          "output_type": "stream",
          "name": "stdout",
          "text": [
            "The area between the curves is approximately 26.662\n"
          ]
        }
      ]
    },
    {
      "cell_type": "code",
      "source": [
        "# Create the graph function for the under curve visual\n",
        "def graph(formula1, x_range):\n",
        "        x = np.array(x_range)\n",
        "\n",
        "      #use x as range variable\n",
        "        y = formula1(x)\n",
        "\n",
        "       #call the lambda expression with x on each\n",
        "       #equation formula , it is given to you\n",
        "\n",
        "        #use y1 and y2 as function result\n",
        "        plt . plot (x,y)\n",
        "\n",
        "        plt . fill_between (x,y, where=(x>1) & (x<5),\n",
        "        color= 'red' , alpha=0.3)\n",
        "\n",
        "        plt.ylim(ymin=0)\n",
        "        plt.show()\n",
        "\n",
        "        #run the graph function to test code for marking\n",
        "graph(lambda x : (4*x-x**2) +5,np. arange(-1, 7, 0.1))"
      ],
      "metadata": {
        "colab": {
          "base_uri": "https://localhost:8080/",
          "height": 430
        },
        "id": "DgMd9seuKM12",
        "outputId": "e5d3d024-8d8b-4aac-c62c-f6fcb664672c"
      },
      "execution_count": null,
      "outputs": [
        {
          "output_type": "display_data",
          "data": {
            "text/plain": [
              "<Figure size 640x480 with 1 Axes>"
            ],
            "image/png": "[encoded data removed]"
          },
          "metadata": {}
        }
      ]
    },
    {
      "cell_type": "markdown",
      "source": [
        "## Question 2.3\n",
        "\n",
        " The third step is to find out “the area under the line y = 10−2x” by using the two intersections like\n",
        " below Figure"
      ],
      "metadata": {
        "id": "pN36w5TtWW8M"
      }
    },
    {
      "cell_type": "markdown",
      "source": [
        "### Finding the y value for the identified x value in line."
      ],
      "metadata": {
        "id": "NXMQhF4p0r2O"
      }
    },
    {
      "cell_type": "code",
      "source": [
        "# Formula for line Function\n",
        "a=formula2(1)\n",
        "print('for x1=1 intersecting y value :',a)\n",
        "\n"
      ],
      "metadata": {
        "colab": {
          "base_uri": "https://localhost:8080/"
        },
        "id": "LaEZZIifYFq1",
        "outputId": "567ecd40-bc62-492c-cd81-e15fc4d0aae4"
      },
      "execution_count": null,
      "outputs": [
        {
          "output_type": "stream",
          "name": "stdout",
          "text": [
            "for x1=1 intersecting y value : 8\n"
          ]
        }
      ]
    },
    {
      "cell_type": "code",
      "source": [
        "#Formula for Curve function\n",
        "b= formula2(5)\n",
        "print('for x1=5 intersecting y value :',b)"
      ],
      "metadata": {
        "colab": {
          "base_uri": "https://localhost:8080/"
        },
        "id": "_5xWqFHbYKzl",
        "outputId": "6a41161c-99c1-4b5b-8cf9-db591fb1290d"
      },
      "execution_count": null,
      "outputs": [
        {
          "output_type": "stream",
          "name": "stdout",
          "text": [
            "for x1=5 intersecting y value : 0\n"
          ]
        }
      ]
    },
    {
      "cell_type": "code",
      "source": [
        "import numpy as np\n",
        "\n",
        "def area_line(p1, p2):\n",
        "    \"\"\"\n",
        "    Compute the area under line f2(x) from x = p1[0] to x = p2[0],\n",
        "    where p1 and p2 are points [x1, y1] and [x2, y2] on the curves.\n",
        "\n",
        "    Args:\n",
        "        p1 (list): The coordinates [x1, y1] of the first intersection point.\n",
        "        p2 (list): The coordinates [x2, y2] of the second intersection point.\n",
        "\n",
        "    Returns:\n",
        "        float: The area under the line f2(x) from x1 to x2.\n",
        "    \"\"\"\n",
        "    # Extract x-coordinates from points\n",
        "    x = np.linspace(p1[0], p2[0])\n",
        "    y=  formula2(x)\n",
        "\n",
        "\n",
        "    # Compute the area using trapezoidal rule\n",
        "    area = np.trapz(y, x,dx=0.0001)\n",
        "    return area\n",
        "\n",
        "\n",
        "# Example usage:\n",
        "p1 = [1, 8]  # Intersection points (example values)\n",
        "p2 = [5, 0]  # Intersection points (example values)\n",
        "\n",
        "area = area_line(p1, p2)\n",
        "print(f'The area between the curves is approximately {area:.3f}')"
      ],
      "metadata": {
        "colab": {
          "base_uri": "https://localhost:8080/"
        },
        "id": "G7WKKxQWKM9L",
        "outputId": "6048fec6-f73a-4857-ece7-5709f8f3fc3d"
      },
      "execution_count": null,
      "outputs": [
        {
          "output_type": "stream",
          "name": "stdout",
          "text": [
            "The area between the curves is approximately 16.000\n"
          ]
        }
      ]
    },
    {
      "cell_type": "code",
      "source": [
        "# Create the graph function to visual line under area\n",
        "def graph(formula2, x_range):\n",
        "        x = np.array(x_range)\n",
        "\n",
        "      #use x as range variable\n",
        "        y = formula2(x)\n",
        "\n",
        "       #call the lambda expression with x on each\n",
        "       #equation formula , it is given to you\n",
        "\n",
        "        #use y1 and y2 as function result\n",
        "        plt . plot (x,y)\n",
        "\n",
        "        plt . fill_between (x,y, where=(x>1) & (x<5),\n",
        "        color= 'red' , alpha=0.3)\n",
        "\n",
        "        plt.ylim(ymin=0)\n",
        "        plt.show()\n",
        "\n",
        "        #run the graph function to test code for marking\n",
        "graph(lambda x : 10-2*x,np. arange(-1, 7, 0.1))"
      ],
      "metadata": {
        "colab": {
          "base_uri": "https://localhost:8080/",
          "height": 430
        },
        "id": "EfJcdqVPUfl3",
        "outputId": "8f500963-b47a-4832-d48d-c0a04308f6a3"
      },
      "execution_count": null,
      "outputs": [
        {
          "output_type": "display_data",
          "data": {
            "text/plain": [
              "<Figure size 640x480 with 1 Axes>"
            ],
            "image/png": "[encoded data removed]"
          },
          "metadata": {}
        }
      ]
    },
    {
      "cell_type": "markdown",
      "source": [
        "## Question2.4\n",
        "\n",
        " The last step is to subtract the two calculated area to obtain the“area between curve and line” Please\n",
        " run the above defined functions area_curve and area_line to return the value of the area between\n",
        " curve and line (you could round the result to 3 decimals)"
      ],
      "metadata": {
        "id": "Gi7Pm8yicc8j"
      }
    },
    {
      "cell_type": "code",
      "source": [
        "# import the libraries\n",
        "import numpy as np\n",
        "from scipy.integrate import quad\n",
        "\n",
        "def area_curve_line(p1, p2):\n",
        "    \"\"\"\n",
        "    Compute the area between curves f1(x) and line f2(x) from x = p1[0] to x = p2[0],\n",
        "    where p1 and p2 are points [x1, y1] and [x2, y2] on the curves.\n",
        "\n",
        "    Args:\n",
        "        p1 (list): The coordinates [x1, y1] of the first intersection point.\n",
        "        p2 (list): The coordinates [x2, y2] of the second intersection point.\n",
        "\n",
        "    Returns:\n",
        "        float: The area between the curve f1(x) and line f2(x) from x1 to x2.\n",
        "    \"\"\"\n",
        "    # Extracted x-coordinates from points\n",
        "    x1, x2 = p1[0], p2[0]\n",
        "\n",
        "    # Define the integrand (difference between the two functions)\n",
        "    def integrand(x):\n",
        "        return formula1(x)- formula2(x)\n",
        "\n",
        "    # Compute the area using integration\n",
        "    area,_ = quad(integrand, x1,x2)\n",
        "\n",
        "    return area\n",
        "\n",
        "\n",
        "# Example usage:\n",
        "p1 = [1, 8]  # Intersection points (example values)\n",
        "p2 = [5, 0]  # Intersection points (example values)\n",
        "\n",
        "area = area_curve_line(p1, p2)\n",
        "print(f'The area between the curves is approximately {area:.3f}')\n"
      ],
      "metadata": {
        "colab": {
          "base_uri": "https://localhost:8080/"
        },
        "id": "Miep0sJbbLI1",
        "outputId": "99598285-0c40-45f1-a8f5-6b3d2ea972ca"
      },
      "execution_count": null,
      "outputs": [
        {
          "output_type": "stream",
          "name": "stdout",
          "text": [
            "The area between the curves is approximately 10.667\n"
          ]
        }
      ]
    },
    {
      "cell_type": "code",
      "source": [
        "26.66-16\n"
      ],
      "metadata": {
        "colab": {
          "base_uri": "https://localhost:8080/"
        },
        "id": "uG3xTnDUdiTm",
        "outputId": "bf6d58e8-0677-49a2-bcc7-e82ab8b724b7"
      },
      "execution_count": null,
      "outputs": [
        {
          "output_type": "execute_result",
          "data": {
            "text/plain": [
              "10.66"
            ]
          },
          "metadata": {},
          "execution_count": 154
        }
      ]
    },
    {
      "cell_type": "code",
      "source": [],
      "metadata": {
        "id": "ya1NHKWThstu"
      },
      "execution_count": null,
      "outputs": []
    }
  ]
}